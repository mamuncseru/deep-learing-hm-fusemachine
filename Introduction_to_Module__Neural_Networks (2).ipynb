{
  "cells": [
    {
      "cell_type": "markdown",
      "metadata": {
        "id": "U7Mvw3HXaNf2"
      },
      "source": [
        "# **Introduction to Module: Neural Networks**\n",
        "\n",
        "---\n",
        "\n",
        "\n",
        "\n",
        "## Prerequisites\n",
        "Before starting with this lesson, students should have the knowledge on:\n",
        "* Linear and Non Linear Function\n",
        "\n",
        "## Learning Objectives\n",
        "Upon completion of this reading material, students will be able to:\n",
        "\n",
        "* Recall different terminologies associated with biological neuron in sequence of how they process stimuli in every timestep.\n",
        "* Explain the structure of a neuron and its working mechanism from dendrites to receptors and to another neuron consecutively.\n",
        "* Implement the concepts of a biological neuron to model an artificial neuron from inputs units to a collective output signal. \n",
        "* Recall the basis components of a perceptron from input units to a collective output value(s) \n",
        "* Discuss Rosenblatt’s perceptron as a linear unit with a step activation function using weights, biases and thresholds\n"
      ]
    },
    {
      "cell_type": "markdown",
      "metadata": {
        "id": "biIKxUipLGNl"
      },
      "source": [
        "## Introduction to Module\n",
        "In this module, you'll going to explore about neural network and different terminologies related to the neural network. This module covers the parts on how to improvise the neural network and how to deal with different issues that arise during a training. Let's discuss briefly about the aspects we are going to cover in each units within the module.\n",
        "\n"
      ]
    },
    {
      "cell_type": "markdown",
      "metadata": {
        "id": "puTjZ7ypQBUr"
      },
      "source": [
        "### Similarly, moving on with the contents in the module:\n",
        "\n",
        "* We will dive deep into neural network and develop strong intuition of how they work and learn. Understand the concept of forward propagation, backward propagation and solve them mathematically.\n",
        "\n",
        "* We will implement an artificial neural network from scratch using TensorFlow.\n",
        "\n",
        "* We will be able to visualize the use cases and characteristics of different **Activation Functions** that will come handy in different algorithms along with their effect on the time taken for convergence of a network.\n",
        "\n",
        "* We will introduce the concept of **Weight Initialization** relating its effect on the workflow of neural networks.\n",
        "\n",
        "* We will introduce the concept of **Optimization Methods** and Rmsprop, Adagrad, SGD and adam are explained in details where their differences can clearly be highlighted.\n",
        "\n",
        "* This module also has a unit for **Normalization** where we throw light upon the need to normalize the data, different techniques of normalization and how these techniques improves the speed, performance and stability of artificial neural network. We will also discuss how the distribution of data impact the learning rate of network. \n",
        "\n",
        "* In **Regularization** unit, we'll be able to visualize how different regularization techniques can control the model complexity and play an important role in dealing with model overfitting and underfitting conditions.\n",
        "\n",
        "* we will understand the setting of hyperparameters for a network in **Hyperparameter Tuning**.\n",
        "\n",
        "\n"
      ]
    },
    {
      "cell_type": "markdown",
      "metadata": {
        "id": "NZ7pM5Zbhbnl"
      },
      "source": [
        "### Biological Neurons\n",
        "\n",
        "The human brain consists of **billions of neurons** through which it processes the sensory inputs and takes necessary actions. It is believed to contain approximately **10 $^{11}$** individual neurons connected consequitively with **10 $^{4}$ others.** The total time taken for an information to travel from one neuron to another is approximately 0.001 seconds also known as the **neuron switching time period**. Similarly, for a computer the switching time is about **10$^{-10}$ seconds** which is amazingly quick.    \n",
        "It takes a normal child less than a millisecond to recognize its mother, giving researchers the intuition that human brain works on some sorts of advanced **parallel processing of information**. This intuition combined with the computing capabilities of a computer served as the perfect motivation for modelling artificial neural networks.   \n",
        "Hence, similar to this working of our brain, we can build a mathematical model that can imitate it and function the same way. \n",
        "\n",
        "First of all, let us discuss the neurons and the brain.\n"
      ]
    },
    {
      "cell_type": "markdown",
      "metadata": {
        "id": "CO7Y3qxDhgGr"
      },
      "source": [
        "### Neurons\n",
        "There are between 14 and 16 billion neurons in the cerebral cortex of the brain. These are organised into cortical columns and minicolumns of neurons that make up the layers of the cortex. These billions of neurons work together to process all stimulation and make complex decisions. While the brain itself performs very complex tasks, each neuron have a simple structure and function.\n",
        "\n",
        "<center>\n",
        "<figure>\n",
        "<img src=\"https://docs.google.com/drawings/d/e/2PACX-1vRs4gvXQ0WMq2N-7DNJJddjJDHZ70UhI795kyVB3ila3kbxbma5POqI_qPb56VKfCjeAdyvDzPPbZfm/pub?w=960&amp;h=720\" alt=\"Neuron\"><figcaption align=\"center\">Figure 1: Structure of a Neuron</figcaption>\n",
        "</figure>\n",
        "</center>\n",
        "\n",
        "#### Associated Terminologies\n",
        "\n",
        "Apart from the normal constituents of a cell like nucleus, chromosomes or cytoplasm, a neuron consists of the following distinctive structures, ordered on the basis of which structure processes the stimulus at each timestep:\n",
        "1. **Dendrites**: Dendrites are cell body extensions (like tree branches) that collects informations from its neighouring neurons and allows the information to pass along to the axon.\n",
        "2. **Cell Body**: A cell body (also called as soma) of a neuron is no different from an ordinary animal cell consisting all the essential components like mitochondria, golgi bodies and so on. It works as a medium for information to tarvel from dendrites to axon.\n",
        "3. **Axon**: An axon is a beaded tube like structure that transfers all the collected electrical impulses from cell bodies to the dendrites of a consecutive neuron via synapse. Also, an axon is connected to a cell body via axon hillock.\n",
        "4. **Synapse**: Synapse acts as a chemical bridge between the teminal end of axon of one neuron and dendrites to another. It acts more of a junction rather than a neural structure.\n",
        "\n",
        "\n"
      ]
    },
    {
      "cell_type": "markdown",
      "metadata": {
        "id": "YzKm4ioGfcm6"
      },
      "source": [
        "# Neural Network\n",
        "\n",
        "\n",
        "A neuron consists of dendrites for processing our sensory inputs and axons for passing these processed inputs to other neurons with the help of synapses. Considering how neurons in the brain work, we can also replicate its functionality by building a mathematical model that simulates how the brain works.\n",
        "In building a mathematical model, we can represent the input with input vector, output with output vector. As for the synapse, we can use a multiplication factor called weights that would carry the required information.\n",
        "\n",
        "This is how we can model a neuron to function as a biological neuron. We can then connect many neurons to build a larger neural network and hence we created an artificial neural network.\n",
        "\n"
      ]
    },
    {
      "cell_type": "markdown",
      "metadata": {
        "tags": [
          "image"
        ],
        "id": "qEaPY_tXNEEI"
      },
      "source": [
        "### Artificial Neuron Model\n",
        "#### Linear Neuron\n",
        "A simple form to model neuron is a Linear Neuron. It is simple but computationally limited. This is just like the **linear regression model**. Understanding this model also provide insight into more complicated models.\n",
        "\n",
        "<center>\n",
        "<figure>\n",
        "\n",
        "\n",
        "<p><img src=\"data:image/png;base64,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\"   width='500px'></p>\n",
        "<figcaption align=\"center\">Figure 1: Linear Neuron</figcaption>\n",
        "</figure>\n",
        "</center>\n",
        "\n",
        "Mathematically, \n",
        "\n",
        "$$y = b + \\sum_{i=n} x_i w_i$$\n",
        "where,\n",
        "\n",
        "- $y = $ target value\n",
        "- $b = $ bias term\n",
        "- $x_i = i^{th}$ input\n",
        "- $w_i = i^{th}$ weight\n",
        "\n",
        "Vectorically,   \n",
        "<center>\n",
        "$y=w \\cdot x $ or $y= w^\\intercal \\cdot x $ \n",
        "</center>\n",
        "\n",
        "\n"
      ]
    },
    {
      "cell_type": "markdown",
      "metadata": {
        "id": "zb4wdCE7iiz2"
      },
      "source": [
        "### Perceptron\n",
        "Perceptrons, developed around 1958 by Frank Rosenblatt is a slightly **tweaked** version of the Artificial Neuron model. The perceptron model is a more general computational model than McCulloch-Pitts neuron. The neurons are also called **Linear Threshold Unit (LTU)** as they can work on non-boolean values where each input connection gets associated with a weight.   \n",
        "\n",
        "Perceptron belongs to the Neural Network classes of algorithms which try to **mimic how the brain functions**. Neural networks were popular in the 90's but then lost its popularity in the **AI winter**. Now they are back with the advent of deep learning.\n",
        "\n",
        "Perceptrons uses linear classification method which is the simplest classification method. They are designed to work on those **data that are perfectly separable**.\n",
        "\n",
        "<center>\n",
        "<figure>\n",
        "<img src=\"https://upload.wikimedia.org/wikipedia/commons/8/8c/Perceptron_moj.png\" alt=\"Perceptron\" width=800>\n",
        "<figcaption align=\"center\">Figure 2: Peceptron </figcaption>\n",
        "</figure>\n",
        "</center>\n",
        "\n",
        "\n",
        "\n",
        "\n",
        "**Inputs to a perceptron**\n",
        "A perceptron takes a vector of numbers $\\textbf{x}$ as features. Assume that you have a vector $\\textbf{x}$ with $n$ features.\n",
        "\n",
        "$$\n",
        "\\textbf{x} = \n",
        "\\begin{bmatrix}\n",
        "x_1 \\\\ \n",
        "x_2 \\\\\n",
        "\\vdots \\\\\n",
        "x_n\n",
        "\\end{bmatrix}\n",
        "$$\n",
        "\n",
        "**Weighted Sum**\n",
        "Now that you have inputs to the perceptron, you need to take their weighted sum. The way this can be done is using a vector of weights. The output of a perceptron is the dot product between the input vector and the weight vector. \n",
        "\n",
        "Consider the weights vector $\\textbf{w}$ given by\n",
        "\n",
        "$$\n",
        "\\textbf{w} = \n",
        "\\begin{bmatrix}\n",
        "w_1 \\\\\n",
        "w_2 \\\\\n",
        "\\vdots \\\\\n",
        "w_n\n",
        "\\end{bmatrix}\n",
        "$$\n",
        "\n",
        "The weighted sum, $\\hat{y}$ is then\n",
        "\n",
        "$$\n",
        "\\hat{y} = \\sum\\limits_{i=1}^{n} w_n x_n\n",
        "$$\n",
        "\n",
        "**Bias**\n",
        "As in linear regression, you can also add an intercept to the number $\\hat{y}$. In the context of neural networks, intercepts are referred to as *biases*. If $b$ is the bias,\n",
        "$$\n",
        "\\hat{y} = b + \\sum\\limits_{i=1}^{n} w_n x_n\n",
        "$$\n",
        "\n",
        "**Step Activation Function**\n",
        "\n",
        "A perceptron is a binary classifier. This means that it calculates a binary label, ie 0 or 1, as its output. The step function takes the calculated weighted sum and thresholds the sum in the following way.\n",
        "\n",
        "$$\n",
        "output = \n",
        "\\begin{cases}\n",
        "    1 &  \\text{if } \\hat{y}\\geq \\text{threshold}\\\\\n",
        "    0 & \\text{otherwise}\n",
        "\\end{cases}\n",
        "$$\n",
        "\n",
        "This means that a perceptron classifies an instance of data as the class `1` if a certain linear combination of features is greater than a threshold value.\n",
        "\n",
        "When perceptrons have biases, the threshold for the step function is not necessary, as the bias itself can function as a threshold.\n",
        "\n",
        "$$\n",
        "output = \n",
        "\\begin{cases}\n",
        "    1 &  \\text{if } \\hat{y}\\geq 0\\\\\n",
        "    0 & \\text{otherwise}\n",
        "\\end{cases}\n",
        "$$\n",
        "\n",
        "**Bias as a Threshold**\n",
        "\n",
        "Consider a perceptron with large bias, say $+4$. It is **quite easy** for this neuron to activate (output as 1). But a neuron with a very small bias, say $-4$, **tends to not fire as often**, since the weighted sum $\\hat{y}$ has to be large, at least $+4$ here, in order to be greater than 0.\n",
        "\n",
        "This means that **neurons with large biases activate much more easily than neurons with small biases.**\n",
        "\n",
        "Therefore, biases function as thresholds for the step function. In fact, it can easily be observed **$\\text{threshold} = -\\text{bias}$.**\n"
      ]
    },
    {
      "cell_type": "markdown",
      "metadata": {
        "id": "WYCL75kkhT70"
      },
      "source": [
        "## Key Takeaways\n",
        "* A neuron consists of dendrites for processing our sensory inputs and axons for passing these processed inputs to other neurons with the help of synapses. \n",
        "* In building a mathematical model, we can represent the input with input vector, output with output vector. As for the synapse, we can use a multiplication factor called weights that would carry the required information.\n",
        "* Perceptrons uses linear classification method and they are designed to work on data that are perfectly separable.\n",
        "\n"
      ]
    },
    {
      "cell_type": "code",
      "execution_count": null,
      "metadata": {
        "id": "m0GrOe6StN78"
      },
      "outputs": [],
      "source": [
        ""
      ]
    }
  ],
  "metadata": {
    "colab": {
      "collapsed_sections": [],
      "name": "Introduction to Module_ Neural Networks.ipynb",
      "provenance": []
    },
    "kernelspec": {
      "display_name": "Python 3",
      "name": "python3"
    }
  },
  "nbformat": 4,
  "nbformat_minor": 0
}
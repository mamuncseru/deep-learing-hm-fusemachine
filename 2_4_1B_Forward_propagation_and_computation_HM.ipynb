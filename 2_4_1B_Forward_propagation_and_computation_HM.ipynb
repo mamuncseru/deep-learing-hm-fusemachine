{
  "nbformat": 4,
  "nbformat_minor": 0,
  "metadata": {
    "colab": {
      "name": "2.4.1B_Forward_propagation_and_computation_HM.ipynb",
      "provenance": [],
      "authorship_tag": "ABX9TyOr0TG0F/UfEjufemT/NPAb",
      "include_colab_link": true
    },
    "kernelspec": {
      "name": "python3",
      "display_name": "Python 3"
    },
    "language_info": {
      "name": "python"
    }
  },
  "cells": [
    {
      "cell_type": "markdown",
      "metadata": {
        "id": "view-in-github",
        "colab_type": "text"
      },
      "source": [
        "<a href=\"https://colab.research.google.com/github/mamuncseru/deep-learning-hnm-fusemachine/blob/main/2_4_1B_Forward_propagation_and_computation_HM.ipynb\" target=\"_parent\"><img src=\"https://colab.research.google.com/assets/colab-badge.svg\" alt=\"Open In Colab\"/></a>"
      ]
    },
    {
      "cell_type": "code",
      "execution_count": 1,
      "metadata": {
        "id": "9NeUDXWwdmx9"
      },
      "outputs": [],
      "source": [
        "import numpy as np"
      ]
    },
    {
      "cell_type": "code",
      "source": [
        "X = np.random.randint(100, size=(50, 2))"
      ],
      "metadata": {
        "id": "bnnG1YQmd4nK"
      },
      "execution_count": 2,
      "outputs": []
    },
    {
      "cell_type": "code",
      "source": [
        "X.shape"
      ],
      "metadata": {
        "colab": {
          "base_uri": "https://localhost:8080/"
        },
        "id": "i4Dsq2Cmd83u",
        "outputId": "f63ca6d8-f6e1-4a45-f6df-800fdde8a000"
      },
      "execution_count": 3,
      "outputs": [
        {
          "output_type": "execute_result",
          "data": {
            "text/plain": [
              "(50, 2)"
            ]
          },
          "metadata": {},
          "execution_count": 3
        }
      ]
    },
    {
      "cell_type": "code",
      "source": [
        "one_to_concat = np.ones(shape=(X.shape[0], 1))\n",
        "X = np.concatenate((one_to_concat, X), axis=1)\n",
        "X.shape"
      ],
      "metadata": {
        "colab": {
          "base_uri": "https://localhost:8080/"
        },
        "id": "-kkOzmGmd9TJ",
        "outputId": "d1fe028e-1f35-4376-97b9-a9eb9129d40b"
      },
      "execution_count": 4,
      "outputs": [
        {
          "output_type": "execute_result",
          "data": {
            "text/plain": [
              "(50, 3)"
            ]
          },
          "metadata": {},
          "execution_count": 4
        }
      ]
    },
    {
      "cell_type": "code",
      "source": [
        "W_1 = np.random.rand(3,2)\n",
        "W_2 = np.random.rand(3, 2)\n",
        "\n",
        "print(W_1)\n",
        "print('-----------')\n",
        "print(W_2)"
      ],
      "metadata": {
        "colab": {
          "base_uri": "https://localhost:8080/"
        },
        "id": "9D6mqGPveM9t",
        "outputId": "90b73742-360d-4689-e97a-17e20daed4d8"
      },
      "execution_count": 6,
      "outputs": [
        {
          "output_type": "stream",
          "name": "stdout",
          "text": [
            "[[0.21499286 0.70642789]\n",
            " [0.39971426 0.28570448]\n",
            " [0.61927204 0.35861334]]\n",
            "-----------\n",
            "[[0.23137923 0.9775856 ]\n",
            " [0.40206884 0.25215132]\n",
            " [0.95772997 0.50368069]]\n"
          ]
        }
      ]
    },
    {
      "cell_type": "code",
      "source": [
        "Z_1 = np.matmul(X, W_1)"
      ],
      "metadata": {
        "id": "YXxwlpFeeZN6"
      },
      "execution_count": 7,
      "outputs": []
    },
    {
      "cell_type": "code",
      "source": [
        "Z_1.shape"
      ],
      "metadata": {
        "colab": {
          "base_uri": "https://localhost:8080/"
        },
        "id": "pV1INy8Qef1g",
        "outputId": "b3c2b1de-206b-4872-c64a-8e7c6012adcf"
      },
      "execution_count": 9,
      "outputs": [
        {
          "output_type": "execute_result",
          "data": {
            "text/plain": [
              "(50, 2)"
            ]
          },
          "metadata": {},
          "execution_count": 9
        }
      ]
    },
    {
      "cell_type": "code",
      "source": [
        "A_1 = 1/(1+np.exp(-Z_1))\n",
        "A_1.shape"
      ],
      "metadata": {
        "colab": {
          "base_uri": "https://localhost:8080/"
        },
        "id": "p2VINMA9ehUP",
        "outputId": "c79b237f-d069-4667-b74d-df6ab2fd2fa4"
      },
      "execution_count": 10,
      "outputs": [
        {
          "output_type": "execute_result",
          "data": {
            "text/plain": [
              "(50, 2)"
            ]
          },
          "metadata": {},
          "execution_count": 10
        }
      ]
    },
    {
      "cell_type": "code",
      "source": [
        "A_1 = np.concatenate((one_to_concat, A_1), axis=1)\n",
        "A_1.shape"
      ],
      "metadata": {
        "colab": {
          "base_uri": "https://localhost:8080/"
        },
        "id": "0DRPDi-1enKZ",
        "outputId": "40f7d636-38f0-4948-abdc-44823ac2b5c1"
      },
      "execution_count": 11,
      "outputs": [
        {
          "output_type": "execute_result",
          "data": {
            "text/plain": [
              "(50, 3)"
            ]
          },
          "metadata": {},
          "execution_count": 11
        }
      ]
    },
    {
      "cell_type": "code",
      "source": [
        "Z_2 = np.matmul(A_1, W_2)"
      ],
      "metadata": {
        "id": "SISDpgsce3GJ"
      },
      "execution_count": 13,
      "outputs": []
    },
    {
      "cell_type": "code",
      "source": [
        "A_2 = 1/(1+np.exp(-Z_2))"
      ],
      "metadata": {
        "id": "qNnSTE5aeuu7"
      },
      "execution_count": 14,
      "outputs": []
    },
    {
      "cell_type": "code",
      "source": [
        "A_2"
      ],
      "metadata": {
        "colab": {
          "base_uri": "https://localhost:8080/"
        },
        "id": "iWuDIBEWezii",
        "outputId": "3817ee9b-0f71-496e-91a2-edb5207c0849"
      },
      "execution_count": 15,
      "outputs": [
        {
          "output_type": "execute_result",
          "data": {
            "text/plain": [
              "array([[0.83078178, 0.84984905],\n",
              "       [0.83078178, 0.84984905],\n",
              "       [0.83078178, 0.84984905],\n",
              "       [0.82797015, 0.84847749],\n",
              "       [0.83078178, 0.84984905],\n",
              "       [0.83078178, 0.84984905],\n",
              "       [0.83078178, 0.84984905],\n",
              "       [0.83078178, 0.84984905],\n",
              "       [0.83078178, 0.84984905],\n",
              "       [0.83078178, 0.84984905],\n",
              "       [0.83078178, 0.84984905],\n",
              "       [0.83078178, 0.84984905],\n",
              "       [0.83078178, 0.84984905],\n",
              "       [0.83078178, 0.84984905],\n",
              "       [0.83078178, 0.84984905],\n",
              "       [0.83078178, 0.84984905],\n",
              "       [0.83078178, 0.84984905],\n",
              "       [0.83078178, 0.84984905],\n",
              "       [0.83078178, 0.84984905],\n",
              "       [0.83078178, 0.84984905],\n",
              "       [0.83078178, 0.84984905],\n",
              "       [0.83078178, 0.84984905],\n",
              "       [0.83078178, 0.84984905],\n",
              "       [0.83078178, 0.84984905],\n",
              "       [0.83078178, 0.84984905],\n",
              "       [0.83078178, 0.84984905],\n",
              "       [0.83078178, 0.84984905],\n",
              "       [0.83078178, 0.84984905],\n",
              "       [0.83078178, 0.84984905],\n",
              "       [0.83078178, 0.84984905],\n",
              "       [0.83078178, 0.84984905],\n",
              "       [0.83078178, 0.84984905],\n",
              "       [0.8307385 , 0.84982829],\n",
              "       [0.83026179, 0.84959719],\n",
              "       [0.83078178, 0.84984905],\n",
              "       [0.83078178, 0.84984905],\n",
              "       [0.83078178, 0.84984905],\n",
              "       [0.83078178, 0.84984905],\n",
              "       [0.83078178, 0.84984905],\n",
              "       [0.83078178, 0.84984905],\n",
              "       [0.83078178, 0.84984905],\n",
              "       [0.83078178, 0.84984905],\n",
              "       [0.83078178, 0.84984905],\n",
              "       [0.83078178, 0.84984905],\n",
              "       [0.83078178, 0.84984905],\n",
              "       [0.83078178, 0.84984905],\n",
              "       [0.83078178, 0.84984905],\n",
              "       [0.83078178, 0.84984905],\n",
              "       [0.83078178, 0.84984905],\n",
              "       [0.83078178, 0.84984905]])"
            ]
          },
          "metadata": {},
          "execution_count": 15
        }
      ]
    },
    {
      "cell_type": "code",
      "source": [
        ""
      ],
      "metadata": {
        "id": "USVxTh-le9I5"
      },
      "execution_count": null,
      "outputs": []
    }
  ]
}